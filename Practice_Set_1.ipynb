{
  "nbformat": 4,
  "nbformat_minor": 0,
  "metadata": {
    "colab": {
      "provenance": [],
      "include_colab_link": true
    },
    "kernelspec": {
      "name": "python3",
      "display_name": "Python 3"
    },
    "language_info": {
      "name": "python"
    }
  },
  "cells": [
    {
      "cell_type": "markdown",
      "metadata": {
        "id": "view-in-github",
        "colab_type": "text"
      },
      "source": [
        "<a href=\"https://colab.research.google.com/github/eL-Toxique/PayloadsAllTheThings/blob/master/Practice_Set_1.ipynb\" target=\"_parent\"><img src=\"https://colab.research.google.com/assets/colab-badge.svg\" alt=\"Open In Colab\"/></a>"
      ]
    },
    {
      "cell_type": "markdown",
      "source": [
        "Write a Python program to print the following sentence: \"Python programming is fun!\""
      ],
      "metadata": {
        "id": "dxH1gm-js0a1"
      }
    },
    {
      "cell_type": "code",
      "source": [
        "print(\"Python programming is fun!\")"
      ],
      "metadata": {
        "id": "7P2b_JFCtFfG",
        "colab": {
          "base_uri": "https://localhost:8080/"
        },
        "outputId": "eee1cc8c-8c69-4050-b591-8d3bcbcd9931"
      },
      "execution_count": 1,
      "outputs": [
        {
          "output_type": "stream",
          "name": "stdout",
          "text": [
            "Python programming is fun!\n"
          ]
        }
      ]
    },
    {
      "cell_type": "markdown",
      "source": [
        "Create a variable name and assign it your name as a string. Print \"Hello, my name is name!\""
      ],
      "metadata": {
        "id": "mQWlC_gms3ll"
      }
    },
    {
      "cell_type": "code",
      "source": [
        "name = \"Linda\"\n",
        "print(f\"Hello,my name is {name}!\")"
      ],
      "metadata": {
        "id": "tzoIO_8ftF3e",
        "colab": {
          "base_uri": "https://localhost:8080/"
        },
        "outputId": "aafc299b-3574-4286-874e-39e0d446ad39"
      },
      "execution_count": 5,
      "outputs": [
        {
          "output_type": "stream",
          "name": "stdout",
          "text": [
            "Hello,my name is Linda!\n"
          ]
        }
      ]
    },
    {
      "cell_type": "markdown",
      "source": [
        "Write a Python program to calculate the sum of 123 and 456 and print the result."
      ],
      "metadata": {
        "id": "uO2vr0d5s37n"
      }
    },
    {
      "cell_type": "code",
      "source": [
        "sum = 123 +456\n",
        "print(sum)"
      ],
      "metadata": {
        "id": "41gMrrBLtGQ-",
        "colab": {
          "base_uri": "https://localhost:8080/"
        },
        "outputId": "9910f229-03f5-46f8-dd41-97ef4c7ca336"
      },
      "execution_count": 6,
      "outputs": [
        {
          "output_type": "stream",
          "name": "stdout",
          "text": [
            "579\n"
          ]
        }
      ]
    },
    {
      "cell_type": "markdown",
      "source": [
        "Create two variables a and b with values 20 and 10 respectively. Print the result of their multiplication."
      ],
      "metadata": {
        "id": "jZ8jXsfTs5U9"
      }
    },
    {
      "cell_type": "code",
      "source": [
        "a = 20\n",
        "b = 10\n",
        "print(a*b)"
      ],
      "metadata": {
        "id": "_cWBy56ftGpd",
        "colab": {
          "base_uri": "https://localhost:8080/"
        },
        "outputId": "78a90591-c63b-40d3-8230-fe8f36d90ebd"
      },
      "execution_count": 7,
      "outputs": [
        {
          "output_type": "stream",
          "name": "stdout",
          "text": [
            "200\n"
          ]
        }
      ]
    },
    {
      "cell_type": "markdown",
      "source": [
        "Create a variable age and assign it your age. Print a sentence stating your age using an f-string."
      ],
      "metadata": {
        "id": "vT9p_XXws6zN"
      }
    },
    {
      "cell_type": "code",
      "source": [
        "age = 28\n",
        "print(f\"My age is\",age)"
      ],
      "metadata": {
        "id": "1sA0KvectHGY",
        "colab": {
          "base_uri": "https://localhost:8080/"
        },
        "outputId": "2f34b9d8-d707-448e-d17d-646d9ebe154a"
      },
      "execution_count": 8,
      "outputs": [
        {
          "output_type": "stream",
          "name": "stdout",
          "text": [
            "My age is 28\n"
          ]
        }
      ]
    },
    {
      "cell_type": "markdown",
      "source": [
        "Create a variable salary and assign it a value. Calculate a 10% bonus of the salary and print the final amount after adding the bonus to the original salary."
      ],
      "metadata": {
        "id": "mVKewXUls7gO"
      }
    },
    {
      "cell_type": "code",
      "source": [],
      "metadata": {
        "id": "TUicIdXk7kWZ"
      },
      "execution_count": null,
      "outputs": []
    },
    {
      "cell_type": "code",
      "source": [
        "salary = 20000\n",
        "bonus = salary * 0.1\n",
        "final_amount = salary + bonus\n",
        "print(f\"Final_amount is\",final_amount)"
      ],
      "metadata": {
        "id": "8FNCc2lEtHjt",
        "colab": {
          "base_uri": "https://localhost:8080/"
        },
        "outputId": "ed103c26-c550-4dc0-9d93-21455f568eb4"
      },
      "execution_count": 18,
      "outputs": [
        {
          "output_type": "stream",
          "name": "stdout",
          "text": [
            "Final_amount is 22000.0\n"
          ]
        }
      ]
    },
    {
      "cell_type": "markdown",
      "source": [
        "Create a list of your five favorite fruits. Write a for loop to print each fruit in the list"
      ],
      "metadata": {
        "id": "JA2mbazUs8VN"
      }
    },
    {
      "cell_type": "code",
      "source": [
        "fruits = \"Kiwi\", \"Apples\",\"Mangoes\",\"Bananas\",\"Oranges\"\n",
        "for fruit in fruits:\n",
        "  print(fruit)"
      ],
      "metadata": {
        "id": "fAAZdZXztILt",
        "colab": {
          "base_uri": "https://localhost:8080/"
        },
        "outputId": "164da8f9-f59d-497d-c687-4a98d58a4399"
      },
      "execution_count": 19,
      "outputs": [
        {
          "output_type": "stream",
          "name": "stdout",
          "text": [
            "Kiwi\n",
            "Apples\n",
            "Mangoes\n",
            "Bananas\n",
            "Oranges\n"
          ]
        }
      ]
    },
    {
      "cell_type": "markdown",
      "source": [
        "Create a list of five numbers. Write a Python program to calculate and print the sum of these numbers using a for loop."
      ],
      "metadata": {
        "id": "625Nxz2Bs9J_"
      }
    },
    {
      "cell_type": "code",
      "source": [
        "numbers = [30,70,40,50,20]\n",
        "for number in numbers:\n",
        "  sum =sum + number\n",
        "  print(sum)"
      ],
      "metadata": {
        "id": "yW_VPQBAtIpd",
        "colab": {
          "base_uri": "https://localhost:8080/"
        },
        "outputId": "99f168b8-8298-4f89-85d3-3cf9e347826f"
      },
      "execution_count": 20,
      "outputs": [
        {
          "output_type": "stream",
          "name": "stdout",
          "text": [
            "609\n",
            "679\n",
            "719\n",
            "769\n",
            "789\n"
          ]
        }
      ]
    },
    {
      "cell_type": "markdown",
      "source": [
        "Write a Python program that checks if a number stored in the variable num is positive, negative, or zero and prints an appropriate message."
      ],
      "metadata": {
        "id": "gc6nwpoEs98t"
      }
    },
    {
      "cell_type": "code",
      "source": [
        "num = 0\n",
        "if num > 0:\n",
        "  print(\"Number is positive\")\n",
        "elif num < 0:\n",
        "  print(\"Number is negative\")\n",
        "else:\n",
        "  print(\"Number is zero\")"
      ],
      "metadata": {
        "id": "SvtCr0tOtJFV",
        "colab": {
          "base_uri": "https://localhost:8080/"
        },
        "outputId": "9c462e70-e1d2-4d4a-c8ee-bfa4e254d1dc"
      },
      "execution_count": 21,
      "outputs": [
        {
          "output_type": "stream",
          "name": "stdout",
          "text": [
            "Number is zero\n"
          ]
        }
      ]
    },
    {
      "cell_type": "markdown",
      "source": [
        "Write a Python program that takes a variable grade and prints \"Pass\" if the grade is 50 or higher and \"Fail\" otherwise."
      ],
      "metadata": {
        "id": "lt58m57fs-rF"
      }
    },
    {
      "cell_type": "code",
      "source": [
        "grade = 0\n",
        "if grade > 50:\n",
        "  print(\"Pass\")\n",
        "else:\n",
        "  print(\"Fail\")"
      ],
      "metadata": {
        "id": "kw2FWA7ctJo9",
        "colab": {
          "base_uri": "https://localhost:8080/"
        },
        "outputId": "1a33ac4e-f665-4de0-8d81-0d132d5e0582"
      },
      "execution_count": 23,
      "outputs": [
        {
          "output_type": "stream",
          "name": "stdout",
          "text": [
            "Fail\n"
          ]
        }
      ]
    },
    {
      "cell_type": "markdown",
      "source": [
        "Create a dictionary named student with keys name, age, and grade. Assign appropriate values to these keys. Print the dictionary."
      ],
      "metadata": {
        "id": "bIispBbcs_qF"
      }
    },
    {
      "cell_type": "code",
      "source": [
        "student ={\"Name\":\"Linda\", \"Age\":\"28\",\"Grade\":\"B\"}\n",
        "print(student)"
      ],
      "metadata": {
        "id": "em_0bfj_tJ89",
        "colab": {
          "base_uri": "https://localhost:8080/"
        },
        "outputId": "960c2d75-0df5-4f62-ee88-0c1683a440ef"
      },
      "execution_count": 24,
      "outputs": [
        {
          "output_type": "stream",
          "name": "stdout",
          "text": [
            "{'Name': 'Linda', 'Age': '28', 'Grade': 'B'}\n"
          ]
        }
      ]
    },
    {
      "cell_type": "markdown",
      "source": [
        "Update the grade value in the student dictionary and print the updated dictionary."
      ],
      "metadata": {
        "id": "UgJ-5AintAR2"
      }
    },
    {
      "cell_type": "code",
      "source": [
        "student[\"Grade\"] = \"A\""
      ],
      "metadata": {
        "id": "5x2gj0g2tKVe"
      },
      "execution_count": 26,
      "outputs": []
    },
    {
      "cell_type": "markdown",
      "source": [
        "Create a tuple named dimensions with three elements representing the length, width, and height of a box. Print the second element of the tuple."
      ],
      "metadata": {
        "id": "5qvWr4GStBJv"
      }
    },
    {
      "cell_type": "code",
      "source": [
        "dimensions = (40,20,60)\n",
        "print(dimensions[1])"
      ],
      "metadata": {
        "id": "vK8ZhIo4tKr1",
        "colab": {
          "base_uri": "https://localhost:8080/"
        },
        "outputId": "872837e8-2250-4683-eba0-c112bdc54bfe"
      },
      "execution_count": 27,
      "outputs": [
        {
          "output_type": "stream",
          "name": "stdout",
          "text": [
            "20\n"
          ]
        }
      ]
    },
    {
      "cell_type": "markdown",
      "source": [
        "Create a set named colors with elements \"red\", \"green\", and \"blue\". Add the color \"yellow\" to the set and print the updated set."
      ],
      "metadata": {
        "id": "d7LBWpTZtCUl"
      }
    },
    {
      "cell_type": "code",
      "source": [
        "colours = {\"Red\",\"Green\",\"Blue\"}\n",
        "colours.add(\"Yellow\")\n",
        "print(colours)"
      ],
      "metadata": {
        "id": "VqGOkhaHtLE9",
        "colab": {
          "base_uri": "https://localhost:8080/"
        },
        "outputId": "9a768961-873f-4725-b060-639c19902675"
      },
      "execution_count": 28,
      "outputs": [
        {
          "output_type": "stream",
          "name": "stdout",
          "text": [
            "{'Yellow', 'Red', 'Green', 'Blue'}\n"
          ]
        }
      ]
    },
    {
      "cell_type": "markdown",
      "source": [
        "Write a function named greet that takes a name as an argument and prints \"Hello, name!\". Call this function with your name."
      ],
      "metadata": {
        "id": "i_10n3AgtDMG"
      }
    },
    {
      "cell_type": "code",
      "source": [
        "def greet(name):\n",
        "  print(f\"Hello, {name}!\")\n",
        "  name = \"Linda\"\n",
        "  greet(Linda)\n"
      ],
      "metadata": {
        "id": "4ZHIm1C4tLcd"
      },
      "execution_count": 42,
      "outputs": []
    },
    {
      "cell_type": "markdown",
      "source": [
        "Write a function named calculate_area that takes the radius of a circle as an argument and returns the area of the circle. Use this function to calculate and print the area of a circle with a radius of 5."
      ],
      "metadata": {
        "id": "mBK4Or7UtECV"
      }
    },
    {
      "cell_type": "code",
      "source": [
        "def calculate_area(radius):\n",
        "  area = 3.142 * radius ** 2\n",
        "  return area\n",
        "  radius = 5\n",
        "  print(calculate_area(5))"
      ],
      "metadata": {
        "id": "UknlI32_tLwV"
      },
      "execution_count": 41,
      "outputs": []
    }
  ]
}